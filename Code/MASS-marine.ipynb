{
 "cells": [
  {
   "cell_type": "markdown",
   "id": "53752455",
   "metadata": {},
   "source": [
    "# MASS application\n",
    "\n",
    "This is an example workflow accompanying the manuscript **Multi-Attribute Subset Selection enables prediction of representative phenotypes across microbial populations** aiming at facilitating the application of the MASS algorithm using DATASET 1."
   ]
  },
  {
   "cell_type": "markdown",
   "id": "b282dc7e",
   "metadata": {},
   "source": [
    "## Set-up and data import"
   ]
  },
  {
   "cell_type": "code",
   "execution_count": 1,
   "id": "b6da4930",
   "metadata": {},
   "outputs": [],
   "source": [
    "from MASS import MASS, get_score\n",
    "import pandas as pd\n",
    "import numpy as np\n",
    "import matplotlib.pyplot as plt\n",
    "import seaborn as sns\n",
    "sns.set()"
   ]
  },
  {
   "cell_type": "code",
   "execution_count": 2,
   "id": "cd54d96c",
   "metadata": {},
   "outputs": [
    {
     "data": {
      "text/plain": [
       "['growth_profiles_binary.xlsx']"
      ]
     },
     "execution_count": 2,
     "metadata": {},
     "output_type": "execute_result"
    }
   ],
   "source": [
    "import os\n",
    "os.getcwd()\n",
    "os.listdir('../Data')\n",
    "#mypath = 'data/'\n",
    "#[f for f in os.listdir(mypath) if os.path.isfile(os.path.join(mypath, f))]"
   ]
  },
  {
   "cell_type": "code",
   "execution_count": 5,
   "id": "3cfae6de",
   "metadata": {},
   "outputs": [
    {
     "data": {
      "text/html": [
       "<div>\n",
       "<style scoped>\n",
       "    .dataframe tbody tr th:only-of-type {\n",
       "        vertical-align: middle;\n",
       "    }\n",
       "\n",
       "    .dataframe tbody tr th {\n",
       "        vertical-align: top;\n",
       "    }\n",
       "\n",
       "    .dataframe thead th {\n",
       "        text-align: right;\n",
       "    }\n",
       "</style>\n",
       "<table border=\"1\" class=\"dataframe\">\n",
       "  <thead>\n",
       "    <tr style=\"text-align: right;\">\n",
       "      <th></th>\n",
       "      <th>difcoMB</th>\n",
       "      <th>HMBcmpt</th>\n",
       "      <th>HMBpep</th>\n",
       "      <th>HMBaa</th>\n",
       "      <th>HMBlips</th>\n",
       "      <th>HMBoligo</th>\n",
       "      <th>HMBorg</th>\n",
       "      <th>HMBntrl</th>\n",
       "      <th>HMBamisug</th>\n",
       "      <th>HMBacdsug</th>\n",
       "      <th>HMB--</th>\n",
       "    </tr>\n",
       "    <tr>\n",
       "      <th>strain</th>\n",
       "      <th></th>\n",
       "      <th></th>\n",
       "      <th></th>\n",
       "      <th></th>\n",
       "      <th></th>\n",
       "      <th></th>\n",
       "      <th></th>\n",
       "      <th></th>\n",
       "      <th></th>\n",
       "      <th></th>\n",
       "      <th></th>\n",
       "    </tr>\n",
       "  </thead>\n",
       "  <tbody>\n",
       "    <tr>\n",
       "      <th>fang</th>\n",
       "      <td>1</td>\n",
       "      <td>0</td>\n",
       "      <td>1</td>\n",
       "      <td>1</td>\n",
       "      <td>1</td>\n",
       "      <td>0</td>\n",
       "      <td>0</td>\n",
       "      <td>0</td>\n",
       "      <td>0</td>\n",
       "      <td>0</td>\n",
       "      <td>0</td>\n",
       "    </tr>\n",
       "    <tr>\n",
       "      <th>kordia</th>\n",
       "      <td>1</td>\n",
       "      <td>0</td>\n",
       "      <td>0</td>\n",
       "      <td>0</td>\n",
       "      <td>1</td>\n",
       "      <td>0</td>\n",
       "      <td>0</td>\n",
       "      <td>0</td>\n",
       "      <td>0</td>\n",
       "      <td>0</td>\n",
       "      <td>0</td>\n",
       "    </tr>\n",
       "    <tr>\n",
       "      <th>citrea</th>\n",
       "      <td>1</td>\n",
       "      <td>1</td>\n",
       "      <td>1</td>\n",
       "      <td>1</td>\n",
       "      <td>1</td>\n",
       "      <td>1</td>\n",
       "      <td>1</td>\n",
       "      <td>1</td>\n",
       "      <td>1</td>\n",
       "      <td>1</td>\n",
       "      <td>0</td>\n",
       "    </tr>\n",
       "  </tbody>\n",
       "</table>\n",
       "</div>"
      ],
      "text/plain": [
       "        difcoMB  HMBcmpt  HMBpep  HMBaa  HMBlips  HMBoligo  HMBorg  HMBntrl  \\\n",
       "strain                                                                        \n",
       "fang          1        0       1      1        1         0       0        0   \n",
       "kordia        1        0       0      0        1         0       0        0   \n",
       "citrea        1        1       1      1        1         1       1        1   \n",
       "\n",
       "        HMBamisug  HMBacdsug  HMB--  \n",
       "strain                               \n",
       "fang            0          0      0  \n",
       "kordia          0          0      0  \n",
       "citrea          1          1      0  "
      ]
     },
     "execution_count": 5,
     "metadata": {},
     "output_type": "execute_result"
    }
   ],
   "source": [
    "df = pd.read_excel('../Data/growth_profiles_binary.xlsx',\n",
    "                     index_col='strain')  # ,index_col='Mutant'\n",
    "\n",
    "df_new = df.astype(float)\n",
    "X = df_new.values\n",
    "n, d = X.shape\n",
    "\"\"\"## only for classify, 0 -->-1 \"\"\"\n",
    "\n",
    "X[X == 0] = -1\n",
    "\n",
    "df.iloc[0:3,:]"
   ]
  },
  {
   "cell_type": "markdown",
   "id": "3cb5d9c4",
   "metadata": {},
   "source": [
    "## Applying MISI to identify most informative feature sets"
   ]
  },
  {
   "cell_type": "code",
   "execution_count": 6,
   "id": "e9df3bd3",
   "metadata": {},
   "outputs": [
    {
     "name": "stdout",
     "output_type": "stream",
     "text": [
      "Using license file /usr/local/gurobi/gurobi.lic\n",
      "Set parameter TokenServer to value sccsvc\n",
      "Changed value of parameter Threads to 8\n",
      "   Prev: 0  Min: 0  Max: 1024  Default: 0\n"
     ]
    }
   ],
   "source": [
    "bestB, bestb0, bestz, bestKSI, obj, m = MASS(X, 10, Ncpu=8)"
   ]
  },
  {
   "cell_type": "code",
   "execution_count": 7,
   "id": "ad4eb4f5",
   "metadata": {},
   "outputs": [
    {
     "data": {
      "text/plain": [
       "<gurobi.Model MIP instance Unnamed: 12 constrs, 990 vars, Parameter changes: Threads=8, OutputFlag=0>"
      ]
     },
     "execution_count": 7,
     "metadata": {},
     "output_type": "execute_result"
    }
   ],
   "source": [
    "m."
   ]
  },
  {
   "cell_type": "code",
   "execution_count": 7,
   "id": "be0029c4",
   "metadata": {},
   "outputs": [
    {
     "name": "stdout",
     "output_type": "stream",
     "text": [
      "10\n",
      "Using license file /usr/local/gurobi/gurobi.lic\n",
      "Set parameter TokenServer to value sccsvc\n",
      "Changed value of parameter Threads to 8\n",
      "   Prev: 0  Min: 0  Max: 1024  Default: 0\n",
      "9\n",
      "Changed value of parameter Threads to 8\n",
      "   Prev: 0  Min: 0  Max: 1024  Default: 0\n",
      "8\n",
      "Changed value of parameter Threads to 8\n",
      "   Prev: 0  Min: 0  Max: 1024  Default: 0\n",
      "7\n",
      "Changed value of parameter Threads to 8\n",
      "   Prev: 0  Min: 0  Max: 1024  Default: 0\n",
      "6\n",
      "Changed value of parameter Threads to 8\n",
      "   Prev: 0  Min: 0  Max: 1024  Default: 0\n",
      "5\n",
      "Changed value of parameter Threads to 8\n",
      "   Prev: 0  Min: 0  Max: 1024  Default: 0\n",
      "4\n",
      "Changed value of parameter Threads to 8\n",
      "   Prev: 0  Min: 0  Max: 1024  Default: 0\n",
      "3\n",
      "Changed value of parameter Threads to 8\n",
      "   Prev: 0  Min: 0  Max: 1024  Default: 0\n",
      "2\n",
      "Changed value of parameter Threads to 8\n",
      "   Prev: 0  Min: 0  Max: 1024  Default: 0\n",
      "1\n",
      "Changed value of parameter Threads to 8\n",
      "   Prev: 0  Min: 0  Max: 1024  Default: 0\n"
     ]
    }
   ],
   "source": [
    "my_range = range(d-1, 0, -1)  # range(d-2,0,-2)#\n",
    "my_l = len(my_range)  # d-1#37\n",
    "myseed = 2023\n",
    "rand = np.random.RandomState([myseed])\n",
    "\n",
    "z_all = []\n",
    "B_all = []\n",
    "obj_all = []\n",
    "for r in my_range:\n",
    "    print(r)\n",
    "    bestB, bestb0, bestz, bestKSI, obj = MASS(X, r, Ncpu=8)\n",
    "    z_all.append(bestz)\n",
    "    B_all.append(bestB)\n",
    "    obj_all.append(obj)"
   ]
  },
  {
   "cell_type": "code",
   "execution_count": 9,
   "id": "0e4bba4a",
   "metadata": {},
   "outputs": [
    {
     "data": {
      "text/plain": [
       "<AxesSubplot:>"
      ]
     },
     "execution_count": 9,
     "metadata": {},
     "output_type": "execute_result"
    },
    {
     "data": {
      "image/png": "[encoded data removed]",
      "text/plain": [
       "<Figure size 1440x576 with 2 Axes>"
      ]
     },
     "metadata": {},
     "output_type": "display_data"
    }
   ],
   "source": [
    "plt.figure(figsize=(20, 8))\n",
    "sns.heatmap(np.array(z_all).astype(int),\n",
    "            xticklabels=df_new.columns.values,\n",
    "            yticklabels=my_range, vmin=0, vmax=1)"
   ]
  },
  {
   "cell_type": "code",
   "execution_count": 16,
   "id": "0bb6b87a",
   "metadata": {},
   "outputs": [
    {
     "data": {
      "text/plain": [
       "<AxesSubplot:>"
      ]
     },
     "execution_count": 16,
     "metadata": {},
     "output_type": "execute_result"
    },
    {
     "data": {
      "image/png": "[encoded data removed]",
      "text/plain": [
       "<Figure size 432x288 with 1 Axes>"
      ]
     },
     "metadata": {},
     "output_type": "display_data"
    }
   ],
   "source": [
    "df_z_all = pd.DataFrame.from_records(z_all, columns=df_new.columns)\n",
    "df_z_all.to_csv('./Results/MIP_classify_z_all_11.csv', index=False)\n",
    "\"\"\"## obj_all increase when we have fewer features and more responses\"\"\"\n",
    "\n",
    "pd.Series(obj_all).plot()"
   ]
  },
  {
   "cell_type": "code",
   "execution_count": 18,
   "id": "78adfd0b",
   "metadata": {},
   "outputs": [
    {
     "data": {
      "text/plain": [
       "<AxesSubplot:>"
      ]
     },
     "execution_count": 18,
     "metadata": {},
     "output_type": "execute_result"
    },
    {
     "data": {
      "image/png": "[encoded data removed]",
      "text/plain": [
       "<Figure size 1440x1296 with 2 Axes>"
      ]
     },
     "metadata": {},
     "output_type": "display_data"
    }
   ],
   "source": [
    "plt.figure(figsize=(20, 18))\n",
    "sns.heatmap(np.array(z_all).T.astype(int),\n",
    "            xticklabels=my_range,  # str_times,\n",
    "            yticklabels=df_new.columns.values, vmin=0, vmax=1)"
   ]
  },
  {
   "cell_type": "code",
   "execution_count": 19,
   "id": "f7480c81",
   "metadata": {},
   "outputs": [
    {
     "data": {
      "text/plain": [
       "<AxesSubplot:>"
      ]
     },
     "execution_count": 19,
     "metadata": {},
     "output_type": "execute_result"
    },
    {
     "data": {
      "image/png": "[encoded data removed]",
      "text/plain": [
       "<Figure size 432x288 with 1 Axes>"
      ]
     },
     "metadata": {},
     "output_type": "display_data"
    }
   ],
   "source": [
    "df3sum = df_z_all.sum()\n",
    "df3sum.plot()"
   ]
  }
 ],
 "metadata": {
  "kernelspec": {
   "display_name": "Python 3 (ipykernel)",
   "language": "python",
   "name": "python3"
  },
  "language_info": {
   "codemirror_mode": {
    "name": "ipython",
    "version": 3
   },
   "file_extension": ".py",
   "mimetype": "text/x-python",
   "name": "python",
   "nbconvert_exporter": "python",
   "pygments_lexer": "ipython3",
   "version": "3.10.6"
  }
 },
 "nbformat": 4,
 "nbformat_minor": 5
}
